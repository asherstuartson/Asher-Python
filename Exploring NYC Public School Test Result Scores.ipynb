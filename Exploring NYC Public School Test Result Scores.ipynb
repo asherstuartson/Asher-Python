{
 "cells": [
  {
   "cell_type": "code",
   "execution_count": 1,
   "id": "2be3b68b",
   "metadata": {},
   "outputs": [
    {
     "name": "stdout",
     "output_type": "stream",
     "text": [
      "['school_name', 'borough', 'building_code', 'average_math', 'average_reading', 'average_writing', 'percent_tested']\n"
     ]
    }
   ],
   "source": [
    "# Title: Analysis of School Data\n",
    "\n",
    "# Summary: This Python code loads a dataset of school information and performs several data analysis tasks. It begins by identifying schools with average math scores exceeding 80% of the maximum possible score. It then calculates the total SAT scores for each school and identifies the top 10 schools with the highest total SAT scores. Finally, the code groups schools by borough and determines the borough with the largest standard deviation in total SAT scores, providing a valuable overview of school performance and regional disparities.\n",
    "\n",
    "# Import Pandas\n",
    "import pandas as pd\n",
    "\n",
    "# Read in the data\n",
    "schools = pd.read_csv(\"D:/Projects Python Portfolio/Exploring NYC Public School Test Result Scores/schools.csv\")\n",
    "\n",
    "# Preview the data\n",
    "schools.head()\n",
    "\n",
    "# Get the list of column names in the DataFrame\n",
    "column_names = schools.columns.tolist()\n",
    "print(column_names)\n"
   ]
  },
  {
   "cell_type": "code",
   "execution_count": 2,
   "id": "3e7ddc55",
   "metadata": {},
   "outputs": [
    {
     "name": "stdout",
     "output_type": "stream",
     "text": [
      "640.0\n"
     ]
    }
   ],
   "source": [
    "# Set a maximum score and percentage threshold\n",
    "max_score = 800\n",
    "percent_threshold = 0.8\n",
    "\n",
    "# Calculate the score threshold at 80% of the maximum score\n",
    "score_80_threshold = percent_threshold * max_score\n",
    "print(score_80_threshold)\n",
    "\n",
    "# Find schools with an average math score greater than or equal to the threshold\n",
    "best_math_schools = schools[['school_name','average_math']][schools['average_math'] >= score_80_threshold].sort_values(by='average_math', ascending=False)\n",
    "\n"
   ]
  },
  {
   "cell_type": "code",
   "execution_count": 3,
   "id": "5405b64f",
   "metadata": {},
   "outputs": [
    {
     "name": "stdout",
     "output_type": "stream",
     "text": [
      "['school_name', 'borough', 'building_code', 'average_math', 'average_reading', 'average_writing', 'percent_tested', 'total_SAT']\n",
      "                                           school_name  total_SAT\n",
      "88                              Stuyvesant High School       2144\n",
      "170                       Bronx High School of Science       2041\n",
      "93                 Staten Island Technical High School       2041\n",
      "174  High School of American Studies at Lehman College       2013\n",
      "333                        Townsend Harris High School       1981\n",
      "365  Queens High School for the Sciences at York Co...       1947\n",
      "5                       Bard High School Early College       1914\n",
      "280                     Brooklyn Technical High School       1896\n",
      "45                       Eleanor Roosevelt High School       1889\n",
      "68   High School for Mathematics, Science, and Engi...       1889\n"
     ]
    }
   ],
   "source": [
    "# Calculate the total SAT score for each school\n",
    "schools['total_SAT'] = schools['average_math'] + schools['average_reading'] + schools['average_writing']\n",
    "\n",
    "# Get the updated list of column names\n",
    "column_names = schools.columns.tolist()\n",
    "print(column_names)\n",
    "\n",
    "# Find the top 10 schools with the highest total SAT scores\n",
    "top_10_schools = schools[['school_name','total_SAT']].sort_values(by='total_SAT',\n",
    "                                                                  ascending=False).head(10)\n",
    "print(top_10_schools)\n",
    "\n"
   ]
  },
  {
   "cell_type": "code",
   "execution_count": 4,
   "id": "19454300",
   "metadata": {},
   "outputs": [
    {
     "name": "stdout",
     "output_type": "stream",
     "text": [
      "           num_schools  average_SAT  std_SAT\n",
      "borough                                     \n",
      "Manhattan           89      1340.13   230.29\n"
     ]
    }
   ],
   "source": [
    "# Group schools by borough and calculate count, mean, and standard deviation of total SAT scores\n",
    "borough_groups = schools.groupby('borough')['total_SAT'].agg(['count',\n",
    "                                                              'mean',\n",
    "                                                              'std']).round(2)\n",
    "\n",
    "# Find the borough with the largest standard deviation\n",
    "largest_std_dev = borough_groups[borough_groups['std'] == borough_groups['std'].max()]\n",
    "\n",
    "# Rename the columns for clarity\n",
    "column_names = {'count':'num_schools', \n",
    "                'mean':'average_SAT',\n",
    "                'std':'std_SAT'}\n",
    "largest_std_dev = largest_std_dev.rename(columns=column_names)\n",
    "print(largest_std_dev)\n"
   ]
  },
  {
   "cell_type": "code",
   "execution_count": null,
   "id": "f09b0c04",
   "metadata": {},
   "outputs": [],
   "source": []
  },
  {
   "cell_type": "code",
   "execution_count": null,
   "id": "57cda1b5",
   "metadata": {},
   "outputs": [],
   "source": []
  }
 ],
 "metadata": {
  "kernelspec": {
   "display_name": "Python 3 (ipykernel)",
   "language": "python",
   "name": "python3"
  },
  "language_info": {
   "codemirror_mode": {
    "name": "ipython",
    "version": 3
   },
   "file_extension": ".py",
   "mimetype": "text/x-python",
   "name": "python",
   "nbconvert_exporter": "python",
   "pygments_lexer": "ipython3",
   "version": "3.11.4"
  }
 },
 "nbformat": 4,
 "nbformat_minor": 5
}

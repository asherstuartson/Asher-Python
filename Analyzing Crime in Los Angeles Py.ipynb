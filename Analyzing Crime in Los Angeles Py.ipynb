{
 "cells": [
  {
   "cell_type": "code",
   "execution_count": 1,
   "id": "a2f8c276",
   "metadata": {},
   "outputs": [],
   "source": [
    "# Import required libraries\n",
    "import pandas as pd\n",
    "import numpy as np\n",
    "import matplotlib.pyplot as plt\n",
    "import seaborn as sns"
   ]
  },
  {
   "cell_type": "code",
   "execution_count": 2,
   "id": "234a8630",
   "metadata": {},
   "outputs": [
    {
     "name": "stdout",
     "output_type": "stream",
     "text": [
      "       DR_NO  Date Rptd   DATE OCC TIME OCC    AREA NAME  \\\n",
      "0  221412410 2022-06-15 2020-11-12     1700      Pacific   \n",
      "1  220314085 2022-07-22 2020-05-12     1110    Southwest   \n",
      "2  222013040 2022-08-06 2020-06-04     1620      Olympic   \n",
      "3  220614831 2022-08-18 2020-08-17     1200    Hollywood   \n",
      "4  231207725 2023-02-27 2020-01-27     0635  77th Street   \n",
      "\n",
      "                                       Crm Cd Desc  Vict Age Vict Sex  \\\n",
      "0  THEFT FROM MOTOR VEHICLE - PETTY ($950 & UNDER)         0      NaN   \n",
      "1                                THEFT OF IDENTITY        27        F   \n",
      "2                                THEFT OF IDENTITY        60        M   \n",
      "3                                THEFT OF IDENTITY        28        M   \n",
      "4                                THEFT OF IDENTITY        37        M   \n",
      "\n",
      "  Vict Descent Weapon Desc  Status Desc  \\\n",
      "0          NaN         NaN  Invest Cont   \n",
      "1            B         NaN  Invest Cont   \n",
      "2            H         NaN  Invest Cont   \n",
      "3            H         NaN  Invest Cont   \n",
      "4            H         NaN  Invest Cont   \n",
      "\n",
      "                                   LOCATION  \n",
      "0  13600    MARINA POINT                 DR  \n",
      "1   2500 S  SYCAMORE                     AV  \n",
      "2   3300    SAN MARINO                   ST  \n",
      "3                         1900    TRANSIENT  \n",
      "4   6200    4TH                          AV  \n"
     ]
    }
   ],
   "source": [
    "# Read the crime data from a CSV file, parse date columns, and set data types\n",
    "crimes = pd.read_csv(\"D:/Python Projects/Analyzing Crime in Los Angeles/crimes.csv\", parse_dates=[\"Date Rptd\", \"DATE OCC\"], dtype={\"TIME OCC\": str})\n",
    "\n",
    "# Display the first few rows of the DataFrame\n",
    "print(crimes.head())"
   ]
  },
  {
   "cell_type": "code",
   "execution_count": 3,
   "id": "c4b1a2b4",
   "metadata": {},
   "outputs": [
    {
     "data": {
      "image/png": "[encoded data removed]",
      "text/plain": [
       "<Figure size 640x480 with 1 Axes>"
      ]
     },
     "metadata": {},
     "output_type": "display_data"
    }
   ],
   "source": [
    "# Extract the hour of occurrence from the 'TIME OCC' column and convert it to an integer\n",
    "Hour_Occ = crimes['TIME OCC'].str[:2].astype(int)\n",
    "\n",
    "# Create a count plot to visualize the frequencies of crimes by the hour of occurrence\n",
    "sns.countplot(x=Hour_Occ)\n",
    "plt.title('Frequencies of crimes by the hour of occurrence')\n",
    "plt.xlabel('Hours')\n",
    "plt.ylabel('Frequency')\n",
    "plt.xticks(rotation=0)\n",
    "plt.show()"
   ]
  },
  {
   "cell_type": "code",
   "execution_count": 4,
   "id": "4be4b0a5",
   "metadata": {},
   "outputs": [
    {
     "name": "stdout",
     "output_type": "stream",
     "text": [
      "12\n",
      "17065\n"
     ]
    }
   ],
   "source": [
    "# Find the peak crime hour (hour with the highest frequency)\n",
    "peak_crime_hour = int(Hour_Occ.value_counts().idxmax())\n",
    "print(peak_crime_hour)\n",
    "\n",
    "# Find the maximum frequency of crimes for the peak hour\n",
    "peak_crime_max = int(Hour_Occ.value_counts().max())\n",
    "print(peak_crime_max)"
   ]
  },
  {
   "cell_type": "code",
   "execution_count": 5,
   "id": "b9b5ffba",
   "metadata": {},
   "outputs": [
    {
     "name": "stdout",
     "output_type": "stream",
     "text": [
      "Series([], Name: TIME OCC, dtype: int32)\n"
     ]
    }
   ],
   "source": [
    "# Define a list of night hours (10pm to 4am)\n",
    "night_hours_list = ['22', '23', '0', '1', '2', '3', '4']\n",
    "\n",
    "# Filter the data for night hours and create a DataFrame\n",
    "night_hours_df = Hour_Occ[Hour_Occ.isin(night_hours_list)]\n",
    "print(night_hours_df)"
   ]
  },
  {
   "cell_type": "code",
   "execution_count": 6,
   "id": "f9183490",
   "metadata": {},
   "outputs": [
    {
     "name": "stdout",
     "output_type": "stream",
     "text": [
      "        AREA NAME                                     Crm Cd Desc  Count\n",
      "0     77th Street                                VEHICLE - STOLEN   2002\n",
      "1     77th Street                               THEFT OF IDENTITY   1988\n",
      "2     77th Street  ASSAULT WITH DEADLY WEAPON, AGGRAVATED ASSAULT   1433\n",
      "3     77th Street                        BATTERY - SIMPLE ASSAULT   1230\n",
      "4     77th Street               INTIMATE PARTNER - SIMPLE ASSAULT   1012\n",
      "...           ...                                             ...    ...\n",
      "1670     Wilshire                                      DRUNK ROLL      1\n",
      "1671     Wilshire       HUMAN TRAFFICKING - INVOLUNTARY SERVITUDE      1\n",
      "1672     Wilshire                           SHOPLIFTING - ATTEMPT      1\n",
      "1673     Wilshire         TILL TAP - GRAND THEFT ($950.01 & OVER)      1\n",
      "1674     Wilshire                      WEAPONS POSSESSION/BOMBING      1\n",
      "\n",
      "[1675 rows x 3 columns]\n",
      "        AREA NAME                                        Crm Cd Desc  Count\n",
      "81        Central                              BURGLARY FROM VEHICLE   2971\n",
      "82        Central                           BATTERY - SIMPLE ASSAULT   2021\n",
      "1116    Southeast                                  THEFT OF IDENTITY   2013\n",
      "0     77th Street                                   VEHICLE - STOLEN   2002\n",
      "1     77th Street                                  THEFT OF IDENTITY   1988\n",
      "...           ...                                                ...    ...\n",
      "1348      Topanga               DRIVING WITHOUT OWNER CONSENT (DWOC)      1\n",
      "1347      Topanga  DEFRAUDING INNKEEPER/THEFT OF SERVICES, $950 &...      1\n",
      "1346      Topanga              CREDIT CARDS, FRAUD USE ($950 & UNDER      1\n",
      "1345      Topanga                                      BOAT - STOLEN      1\n",
      "1674     Wilshire                         WEAPONS POSSESSION/BOMBING      1\n",
      "\n",
      "[1675 rows x 3 columns]\n",
      "Central\n"
     ]
    }
   ],
   "source": [
    "# Group the data by 'AREA NAME' and 'Crm Cd Desc', and count the number of crimes\n",
    "area_crime_count = crimes.groupby('AREA NAME')['Crm Cd Desc'].value_counts().reset_index(name='Count')\n",
    "print(area_crime_count)\n",
    "\n",
    "# Sort the area crime counts in descending order\n",
    "area_crime_count_sorted = area_crime_count.sort_values(by='Count', ascending=False)\n",
    "print(area_crime_count_sorted)\n",
    "\n",
    "# Extract the first row (highest count) and get the 'AREA NAME'\n",
    "first_row = area_crime_count_sorted.iloc[0]\n",
    "peak_night_crime_location = first_row['AREA NAME']\n",
    "print(peak_night_crime_location)"
   ]
  },
  {
   "cell_type": "code",
   "execution_count": 7,
   "id": "6d1738b0",
   "metadata": {},
   "outputs": [
    {
     "name": "stdout",
     "output_type": "stream",
     "text": [
      "<18      65864\n",
      "26-34    47288\n",
      "35-44    43759\n",
      "45-54    29247\n",
      "18-25    24366\n",
      "55-64    21116\n",
      "65+      16315\n",
      "Name: Age_Bracket, dtype: int64\n"
     ]
    }
   ],
   "source": [
    "# Define age labels and age bins for victim age groups\n",
    "age_labels = ['<18', '18-25', '26-34', '35-44', '45-54', '55-64', '65+']\n",
    "age_bins = [0, 17, 25, 34, 44, 54, 64, np.inf]\n",
    "\n",
    "# Create age brackets and count the number of crimes in each age group\n",
    "crimes['Age_Bracket'] = pd.cut(crimes['Vict Age'], bins=age_bins, labels=age_labels, right=False)\n",
    "crime_count_by_age = crimes['Age_Bracket'].value_counts()\n",
    "print(crime_count_by_age)"
   ]
  },
  {
   "cell_type": "code",
   "execution_count": null,
   "id": "b9ab1806",
   "metadata": {},
   "outputs": [],
   "source": []
  },
  {
   "cell_type": "code",
   "execution_count": null,
   "id": "55672c28",
   "metadata": {},
   "outputs": [],
   "source": []
  }
 ],
 "metadata": {
  "kernelspec": {
   "display_name": "Python 3 (ipykernel)",
   "language": "python",
   "name": "python3"
  },
  "language_info": {
   "codemirror_mode": {
    "name": "ipython",
    "version": 3
   },
   "file_extension": ".py",
   "mimetype": "text/x-python",
   "name": "python",
   "nbconvert_exporter": "python",
   "pygments_lexer": "ipython3",
   "version": "3.11.4"
  }
 },
 "nbformat": 4,
 "nbformat_minor": 5
}

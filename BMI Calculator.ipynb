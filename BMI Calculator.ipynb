{
 "cells": [
  {
   "cell_type": "markdown",
   "id": "194da3fb",
   "metadata": {},
   "source": [
    "# Building a BMI Calculator"
   ]
  },
  {
   "cell_type": "code",
   "execution_count": 3,
   "id": "66120fe3",
   "metadata": {},
   "outputs": [
    {
     "name": "stdout",
     "output_type": "stream",
     "text": [
      "Enter your name: Asher\n",
      "Enter your weight in pounds: 209\n",
      "Enter your height in inches: 72\n",
      "28.302083333333332\n",
      "Asher, you are overweight\n"
     ]
    }
   ],
   "source": [
    "# Get user input for name\n",
    "name = input('Enter your name: ')\n",
    "\n",
    "# Get user input for weight in pounds\n",
    "weight = int(input('Enter your weight in pounds: '))\n",
    "\n",
    "# Get user input for height in inches\n",
    "height = int(input('Enter your height in inches: '))\n",
    "\n",
    "# Calculate BMI using the formula: BMI = (weight * 702) / (height * height)\n",
    "BMI = (weight * 702) / (height * height)\n",
    "\n",
    "# Print calculated BMI\n",
    "print(BMI)\n",
    "\n",
    "# Check if BMI is greater than 0\n",
    "if BMI > 0:\n",
    "    # Determine weight status based on BMI ranges\n",
    "    if BMI < 18.5:\n",
    "        print(name + ', you are underweight')\n",
    "    elif BMI <= 24.9:\n",
    "        print(name + ', you are normal weight')\n",
    "    elif BMI <= 29.9:\n",
    "        print(name + ', you are overweight')\n",
    "    elif BMI <= 34.9:\n",
    "        print(name + ', you are Obese')\n",
    "    elif BMI <= 39.9:\n",
    "        print(name + ', you are Severely Obese')\n",
    "    else:\n",
    "        print(name + ', you are Morbidly Obese')\n",
    "else:\n",
    "    # Print error message for invalid input\n",
    "    print('Enter valid input')\n"
   ]
  },
  {
   "cell_type": "code",
   "execution_count": null,
   "id": "294677fc",
   "metadata": {},
   "outputs": [],
   "source": []
  },
  {
   "cell_type": "code",
   "execution_count": null,
   "id": "88873ccc",
   "metadata": {},
   "outputs": [],
   "source": []
  },
  {
   "cell_type": "code",
   "execution_count": null,
   "id": "b309a424",
   "metadata": {},
   "outputs": [],
   "source": []
  },
  {
   "cell_type": "code",
   "execution_count": null,
   "id": "bbcc4008",
   "metadata": {},
   "outputs": [],
   "source": []
  },
  {
   "cell_type": "code",
   "execution_count": null,
   "id": "b55586d5",
   "metadata": {},
   "outputs": [],
   "source": []
  },
  {
   "cell_type": "code",
   "execution_count": null,
   "id": "47103f78",
   "metadata": {},
   "outputs": [],
   "source": []
  },
  {
   "cell_type": "code",
   "execution_count": null,
   "id": "335bd3e5",
   "metadata": {},
   "outputs": [],
   "source": []
  },
  {
   "cell_type": "code",
   "execution_count": null,
   "id": "d88aa5c0",
   "metadata": {},
   "outputs": [],
   "source": []
  },
  {
   "cell_type": "code",
   "execution_count": null,
   "id": "fff696f6",
   "metadata": {},
   "outputs": [],
   "source": []
  },
  {
   "cell_type": "code",
   "execution_count": null,
   "id": "1b2e46d4",
   "metadata": {},
   "outputs": [],
   "source": []
  },
  {
   "cell_type": "code",
   "execution_count": null,
   "id": "25f1f2f5",
   "metadata": {},
   "outputs": [],
   "source": []
  },
  {
   "cell_type": "code",
   "execution_count": null,
   "id": "27dd4841",
   "metadata": {},
   "outputs": [],
   "source": []
  },
  {
   "cell_type": "code",
   "execution_count": null,
   "id": "8d3fc71a",
   "metadata": {},
   "outputs": [],
   "source": []
  }
 ],
 "metadata": {
  "kernelspec": {
   "display_name": "Python 3 (ipykernel)",
   "language": "python",
   "name": "python3"
  },
  "language_info": {
   "codemirror_mode": {
    "name": "ipython",
    "version": 3
   },
   "file_extension": ".py",
   "mimetype": "text/x-python",
   "name": "python",
   "nbconvert_exporter": "python",
   "pygments_lexer": "ipython3",
   "version": "3.11.4"
  }
 },
 "nbformat": 4,
 "nbformat_minor": 5
}

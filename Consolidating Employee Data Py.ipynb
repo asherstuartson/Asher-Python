{
 "cells": [
  {
   "cell_type": "code",
   "execution_count": 1,
   "id": "7030cc97",
   "metadata": {},
   "outputs": [
    {
     "name": "stdout",
     "output_type": "stream",
     "text": [
      "          office office_country    office_city   office_street  \\\n",
      "0  Leuven Office             BE         Leuven  Martelarenlaan   \n",
      "1     ESB Office             US  New York City    Fifth Avenue   \n",
      "2  WeWork Office             GB         London      Old Street   \n",
      "\n",
      "   office_street_number  \n",
      "0                    38  \n",
      "1                   350  \n",
      "2                   207  \n",
      "['employee_addresses', 'emergency_contacts']\n"
     ]
    }
   ],
   "source": [
    "# Import the pandas library\n",
    "import pandas as pd\n",
    "\n",
    "# Load office address data from a CSV file\n",
    "offices = 'D:/Python Projects/Consolidating Employee Data/office_addresses.csv'\n",
    "offices_data = pd.read_csv(offices)\n",
    "print(offices_data.head())\n",
    "\n",
    "# Load employee information from an Excel file\n",
    "emp_info = 'D:/Python Projects/Consolidating Employee Data/employee_information.xlsx'\n",
    "emp_info_data = pd.ExcelFile(emp_info)\n",
    "print(emp_info_data.sheet_names)\n",
    "\n",
    "# Parse the first and second sheets from the Excel file\n",
    "emp_address = emp_info_data.parse(0)\n",
    "emp_emergy_contacts = emp_info_data.parse(1)"
   ]
  },
  {
   "cell_type": "code",
   "execution_count": 3,
   "id": "c4034fa0",
   "metadata": {},
   "outputs": [],
   "source": [
    "# Import the JSON library\n",
    "import json\n",
    "\n",
    "# Load employee roles data from a JSON file\n",
    "emp_roles_path = 'D:/Python Projects/Consolidating Employee Data/employee_roles.json'\n",
    "with open(emp_roles_path, 'r') as json_file:\n",
    "    emp_roles_data = json.load(json_file)"
   ]
  },
  {
   "cell_type": "code",
   "execution_count": 4,
   "id": "5a64f285",
   "metadata": {},
   "outputs": [
    {
     "name": "stdout",
     "output_type": "stream",
     "text": [
      "  employee_id employee_country employee_city      employee_street  \\\n",
      "0      A2R5H9               BE        Leuven          Grote Markt   \n",
      "1      H8K0L6               GB        London         Baker Street   \n",
      "2      G4R7V0               US      New-York         Perry Street   \n",
      "3      M1Z7U9               FR         Paris  Rue de l'Université   \n",
      "\n",
      "   employee_street_number  \n",
      "0                       9  \n",
      "1                     221  \n",
      "2                      66  \n",
      "3                       7  \n",
      "  employee_id last_name first_name emergency_contact emergency_contact_number  \\\n",
      "0      A2R5H9    Hunman        Jax        Opie Hurst          +32-456-5556-84   \n",
      "1      H8K0L6      Siff       Tara   Wendy de Matteo         +44-020-5554-333   \n",
      "2      G4R7V0     Sagal      Gemma      John Newmark           +1-202-555-194   \n",
      "3      M1Z7U9    Coates        Tig       Venus Noone          +1-202-555-0130   \n",
      "\n",
      "  relationship  \n",
      "0      Brother  \n",
      "1       Sister  \n",
      "2      Husband  \n",
      "3         Wife  \n"
     ]
    }
   ],
   "source": [
    "# Define the columns to read from the Excel file\n",
    "addresses_cols = ['employee_id', 'employee_country', 'employee_city', 'employee_street', 'employee_street_number']\n",
    "\n",
    "# Read specified columns from the Excel file into a DataFrame\n",
    "addresses = pd.read_excel(emp_info, usecols=addresses_cols)\n",
    "print(addresses.head())\n",
    "\n",
    "# Define the header for the emergency contact DataFrame\n",
    "emergy_contact_header = ['employee_id', 'last_name', 'first_name', 'emergency_contact', 'emergency_contact_number', 'relationship']\n",
    "\n",
    "# Read specified columns from the Excel file into a DataFrame\n",
    "emergency_contacts = pd.read_excel(emp_info, sheet_name=1, header=None, names=emergy_contact_header)\n",
    "print(emergency_contacts.head())"
   ]
  },
  {
   "cell_type": "code",
   "execution_count": 5,
   "id": "7dc9592e",
   "metadata": {},
   "outputs": [
    {
     "name": "stdout",
     "output_type": "stream",
     "text": [
      "                     title monthly_salary               team\n",
      "A2R5H9                 CEO          $4500         Leadership\n",
      "H8K0L6                 CFO          $4500         Leadership\n",
      "G4R7V0  Business Developer          $3000              Sales\n",
      "M1Z7U9      Office Manager          $2000  People Operations\n"
     ]
    }
   ],
   "source": [
    "# Read employee roles from the JSON file into a DataFrame\n",
    "emp_roles = pd.read_json(emp_roles_path, orient=\"index\")\n",
    "print(emp_roles)"
   ]
  },
  {
   "cell_type": "code",
   "execution_count": 6,
   "id": "d82e2804",
   "metadata": {},
   "outputs": [
    {
     "name": "stdout",
     "output_type": "stream",
     "text": [
      "  employee_id employee_country employee_city      employee_street  \\\n",
      "0      A2R5H9               BE        Leuven          Grote Markt   \n",
      "1      H8K0L6               GB        London         Baker Street   \n",
      "2      G4R7V0               US      New-York         Perry Street   \n",
      "3      M1Z7U9               FR         Paris  Rue de l'Université   \n",
      "\n",
      "   employee_street_number         office office_country    office_city  \\\n",
      "0                       9  Leuven Office             BE         Leuven   \n",
      "1                     221  WeWork Office             GB         London   \n",
      "2                      66     ESB Office             US  New York City   \n",
      "3                       7            NaN            NaN            NaN   \n",
      "\n",
      "    office_street  office_street_number  \n",
      "0  Martelarenlaan                  38.0  \n",
      "1      Old Street                 207.0  \n",
      "2    Fifth Avenue                 350.0  \n",
      "3             NaN                   NaN  \n",
      "  employee_id employee_country employee_city      employee_street  \\\n",
      "0      A2R5H9               BE        Leuven          Grote Markt   \n",
      "1      H8K0L6               GB        London         Baker Street   \n",
      "2      G4R7V0               US      New-York         Perry Street   \n",
      "3      M1Z7U9               FR         Paris  Rue de l'Université   \n",
      "\n",
      "   employee_street_number         office office_country    office_city  \\\n",
      "0                       9  Leuven Office             BE         Leuven   \n",
      "1                     221  WeWork Office             GB         London   \n",
      "2                      66     ESB Office             US  New York City   \n",
      "3                       7            NaN            NaN            NaN   \n",
      "\n",
      "    office_street  office_street_number               title monthly_salary  \\\n",
      "0  Martelarenlaan                  38.0                 CEO          $4500   \n",
      "1      Old Street                 207.0                 CFO          $4500   \n",
      "2    Fifth Avenue                 350.0  Business Developer          $3000   \n",
      "3             NaN                   NaN      Office Manager          $2000   \n",
      "\n",
      "                team  \n",
      "0         Leadership  \n",
      "1         Leadership  \n",
      "2              Sales  \n",
      "3  People Operations  \n",
      "  employee_id employee_country employee_city      employee_street  \\\n",
      "0      A2R5H9               BE        Leuven          Grote Markt   \n",
      "1      H8K0L6               GB        London         Baker Street   \n",
      "2      G4R7V0               US      New-York         Perry Street   \n",
      "3      M1Z7U9               FR         Paris  Rue de l'Université   \n",
      "\n",
      "   employee_street_number         office office_country    office_city  \\\n",
      "0                       9  Leuven Office             BE         Leuven   \n",
      "1                     221  WeWork Office             GB         London   \n",
      "2                      66     ESB Office             US  New York City   \n",
      "3                       7            NaN            NaN            NaN   \n",
      "\n",
      "    office_street  office_street_number               title monthly_salary  \\\n",
      "0  Martelarenlaan                  38.0                 CEO          $4500   \n",
      "1      Old Street                 207.0                 CFO          $4500   \n",
      "2    Fifth Avenue                 350.0  Business Developer          $3000   \n",
      "3             NaN                   NaN      Office Manager          $2000   \n",
      "\n",
      "                team last_name first_name emergency_contact  \\\n",
      "0         Leadership    Hunman        Jax        Opie Hurst   \n",
      "1         Leadership      Siff       Tara   Wendy de Matteo   \n",
      "2              Sales     Sagal      Gemma      John Newmark   \n",
      "3  People Operations    Coates        Tig       Venus Noone   \n",
      "\n",
      "  emergency_contact_number relationship  \n",
      "0          +32-456-5556-84      Brother  \n",
      "1         +44-020-5554-333       Sister  \n",
      "2           +1-202-555-194      Husband  \n",
      "3          +1-202-555-0130         Wife  \n"
     ]
    }
   ],
   "source": [
    "# Perform a left join between the \"addresses\" and \"offices_data\" DataFrames\n",
    "employees = addresses.merge(offices_data, left_on='employee_country', right_on='office_country', how='left')\n",
    "print(employees.head())\n",
    "\n",
    "# Merge the \"employees\" DataFrame with the \"emp_roles\" DataFrame using the employee_id as the key\n",
    "employees = employees.merge(emp_roles, left_on='employee_id', right_index=True, how='inner')\n",
    "print(employees.head())\n",
    "\n",
    "# Merge the \"employees\" DataFrame with the \"emergency_contacts\" DataFrame using the employee_id as the key\n",
    "employees = employees.merge(emergency_contacts, on='employee_id', how='inner')\n",
    "print(employees.head())\n",
    "\n"
   ]
  },
  {
   "cell_type": "code",
   "execution_count": 7,
   "id": "6fe7bae9",
   "metadata": {},
   "outputs": [
    {
     "name": "stdout",
     "output_type": "stream",
     "text": [
      "employee_id                 0\n",
      "employee_country            0\n",
      "employee_city               0\n",
      "employee_street             0\n",
      "employee_street_number      0\n",
      "office                      1\n",
      "office_country              1\n",
      "office_city                 1\n",
      "office_street               1\n",
      "office_street_number        1\n",
      "title                       0\n",
      "monthly_salary              0\n",
      "team                        0\n",
      "last_name                   0\n",
      "first_name                  0\n",
      "emergency_contact           0\n",
      "emergency_contact_number    0\n",
      "relationship                0\n",
      "dtype: int64\n",
      "employee_id                 0\n",
      "employee_country            0\n",
      "employee_city               0\n",
      "employee_street             0\n",
      "employee_street_number      0\n",
      "office                      0\n",
      "office_country              0\n",
      "office_city                 0\n",
      "office_street               0\n",
      "office_street_number        0\n",
      "title                       0\n",
      "monthly_salary              0\n",
      "team                        0\n",
      "last_name                   0\n",
      "first_name                  0\n",
      "emergency_contact           0\n",
      "emergency_contact_number    0\n",
      "relationship                0\n",
      "dtype: int64\n"
     ]
    }
   ],
   "source": [
    "# Find null values in the \"employees\" DataFrame\n",
    "null = employees.isna()\n",
    "print(null.sum())\n",
    "\n",
    "# Replace null values in columns starting with \"office\" with \"Remote\"\n",
    "for column in employees.columns:\n",
    "    if column.startswith('office'):\n",
    "        employees[column].fillna('Remote', inplace=True)\n",
    "\n",
    "# Check if there are still null values\n",
    "null = employees.isna()\n",
    "print(null.sum())\n",
    "\n",
    "\n"
   ]
  },
  {
   "cell_type": "code",
   "execution_count": 8,
   "id": "c640f58b",
   "metadata": {},
   "outputs": [
    {
     "name": "stdout",
     "output_type": "stream",
     "text": [
      "  employee_id employee_country employee_city      employee_street  \\\n",
      "0      A2R5H9               BE        Leuven          Grote Markt   \n",
      "1      H8K0L6               GB        London         Baker Street   \n",
      "2      G4R7V0               US      New-York         Perry Street   \n",
      "3      M1Z7U9               FR         Paris  Rue de l'Université   \n",
      "\n",
      "   employee_street_number         office office_country    office_city  \\\n",
      "0                       9  Leuven Office             BE         Leuven   \n",
      "1                     221  WeWork Office             GB         London   \n",
      "2                      66     ESB Office             US  New York City   \n",
      "3                       7         Remote         Remote         Remote   \n",
      "\n",
      "    office_street office_street_number               title monthly_salary  \\\n",
      "0  Martelarenlaan                 38.0                 CEO          $4500   \n",
      "1      Old Street                207.0                 CFO          $4500   \n",
      "2    Fifth Avenue                350.0  Business Developer          $3000   \n",
      "3          Remote               Remote      Office Manager          $2000   \n",
      "\n",
      "                team emergency_contact emergency_contact_number relationship  \n",
      "0         Leadership        Opie Hurst          +32-456-5556-84      Brother  \n",
      "1         Leadership   Wendy de Matteo         +44-020-5554-333       Sister  \n",
      "2              Sales      John Newmark           +1-202-555-194      Husband  \n",
      "3  People Operations       Venus Noone          +1-202-555-0130         Wife  \n",
      "['employee_id', 'employee_country', 'employee_city', 'employee_street', 'employee_street_number', 'office', 'office_country', 'office_city', 'office_street', 'office_street_number', 'title', 'monthly_salary', 'team', 'emergency_contact', 'emergency_contact_number', 'relationship']\n"
     ]
    }
   ],
   "source": [
    "# Drop the \"last_name\" and \"first_name\" columns from the DataFrame\n",
    "employees.drop(columns=['last_name', 'first_name'], inplace=True)\n",
    "print(employees)\n",
    "\n",
    "# Check the current column names in the DataFrame\n",
    "column_names = employees.columns.tolist()\n",
    "print(column_names)\n",
    "\n"
   ]
  },
  {
   "cell_type": "code",
   "execution_count": 9,
   "id": "34e39e31",
   "metadata": {},
   "outputs": [
    {
     "name": "stdout",
     "output_type": "stream",
     "text": [
      "['id', 'country', 'city', 'street', 'street_number', 'office', 'office_country', 'office_city', 'office_street', 'office_street_number', 'title', 'monthly_salary', 'team', 'emergency_contact', 'emergency_contact_number', 'relationship']\n"
     ]
    }
   ],
   "source": [
    "# Rename columns to match the final column names\n",
    "employees.rename(columns={\n",
    "    'employee_id': 'id',\n",
    "    'employee_country': 'country',\n",
    "    'employee_city': 'city',\n",
    "    'employee_street': 'street',\n",
    "    'employee_street_number': 'street_number'\n",
    "}, inplace=True)\n",
    "\n",
    "# Check if column names have changed\n",
    "column_names = employees.columns.tolist()\n",
    "print(column_names)\n",
    "\n"
   ]
  },
  {
   "cell_type": "code",
   "execution_count": 10,
   "id": "f29bb06e",
   "metadata": {},
   "outputs": [
    {
     "name": "stdout",
     "output_type": "stream",
     "text": [
      "       country      city               street  street_number         office  \\\n",
      "id                                                                            \n",
      "A2R5H9      BE    Leuven          Grote Markt              9  Leuven Office   \n",
      "H8K0L6      GB    London         Baker Street            221  WeWork Office   \n",
      "G4R7V0      US  New-York         Perry Street             66     ESB Office   \n",
      "M1Z7U9      FR     Paris  Rue de l'Université              7         Remote   \n",
      "\n",
      "       office_country    office_city   office_street office_street_number  \\\n",
      "id                                                                          \n",
      "A2R5H9             BE         Leuven  Martelarenlaan                 38.0   \n",
      "H8K0L6             GB         London      Old Street                207.0   \n",
      "G4R7V0             US  New York City    Fifth Avenue                350.0   \n",
      "M1Z7U9         Remote         Remote          Remote               Remote   \n",
      "\n",
      "                     title monthly_salary               team  \\\n",
      "id                                                             \n",
      "A2R5H9                 CEO          $4500         Leadership   \n",
      "H8K0L6                 CFO          $4500         Leadership   \n",
      "G4R7V0  Business Developer          $3000              Sales   \n",
      "M1Z7U9      Office Manager          $2000  People Operations   \n",
      "\n",
      "       emergency_contact emergency_contact_number relationship  \n",
      "id                                                              \n",
      "A2R5H9        Opie Hurst          +32-456-5556-84      Brother  \n",
      "H8K0L6   Wendy de Matteo         +44-020-5554-333       Sister  \n",
      "G4R7V0      John Newmark           +1-202-555-194      Husband  \n",
      "M1Z7U9       Venus Noone          +1-202-555-0130         Wife  \n"
     ]
    }
   ],
   "source": [
    "# Define a list of final columns to subset the data\n",
    "final_columns = ['id', 'country', 'city', 'street', 'street_number', 'office', 'office_country', 'office_city', 'office_street', 'office_street_number', 'title', 'monthly_salary', 'team', 'emergency_contact', 'emergency_contact_number', 'relationship']\n",
    "\n",
    "# Subset the data for the final columns\n",
    "employees_final = employees[final_columns]\n",
    "\n",
    "# Set the \"id\" column as the index\n",
    "employees_final.set_index('id', inplace=True)\n",
    "\n",
    "print(employees_final)"
   ]
  },
  {
   "cell_type": "code",
   "execution_count": null,
   "id": "c1531f53",
   "metadata": {},
   "outputs": [],
   "source": []
  }
 ],
 "metadata": {
  "kernelspec": {
   "display_name": "Python 3 (ipykernel)",
   "language": "python",
   "name": "python3"
  },
  "language_info": {
   "codemirror_mode": {
    "name": "ipython",
    "version": 3
   },
   "file_extension": ".py",
   "mimetype": "text/x-python",
   "name": "python",
   "nbconvert_exporter": "python",
   "pygments_lexer": "ipython3",
   "version": "3.11.4"
  }
 },
 "nbformat": 4,
 "nbformat_minor": 5
}

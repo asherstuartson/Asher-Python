{
 "cells": [
  {
   "cell_type": "markdown",
   "id": "712ef187",
   "metadata": {},
   "source": [
    "# Automatic File Sorter"
   ]
  },
  {
   "cell_type": "code",
   "execution_count": 40,
   "id": "2f6dc984",
   "metadata": {},
   "outputs": [],
   "source": [
    "# Importing necessary libraries\n",
    "\n",
    "import os\n",
    "import shutil"
   ]
  },
  {
   "cell_type": "code",
   "execution_count": 41,
   "id": "3f05b484",
   "metadata": {},
   "outputs": [],
   "source": [
    "# Define the path to the directory containing files to be organized\n",
    "\n",
    "path = 'C:/Users/HP/OneDrive/Documents/Sample/'"
   ]
  },
  {
   "cell_type": "code",
   "execution_count": 42,
   "id": "310703c2",
   "metadata": {},
   "outputs": [],
   "source": [
    "# Get the list of all files in the directory\n",
    "\n",
    "file_name = os.listdir(path)"
   ]
  },
  {
   "cell_type": "code",
   "execution_count": 43,
   "id": "79a54180",
   "metadata": {},
   "outputs": [],
   "source": [
    "# Define folder names for different file types\n",
    "\n",
    "folder_names = ['csv files','pdf files','xlsx files','docx files','jpg files','JPG files']\n",
    "\n",
    "# Create folders if they do not exist\n",
    "\n",
    "for loop in range(0,5):\n",
    "    if not os.path.exists(path + folder_names[loop]):\n",
    "        os.makedirs((path + folder_names[loop]))"
   ]
  },
  {
   "cell_type": "code",
   "execution_count": 44,
   "id": "f2b81cd6",
   "metadata": {},
   "outputs": [],
   "source": [
    "# Organize files into respective folders based on their extensions\n",
    "\n",
    "for file in file_name:\n",
    "    if '.csv' in file and not os.path.exists(path + 'csv files/' + file):\n",
    "        shutil.move(path + file,path + 'csv files/' + file)\n",
    "    elif '.pdf' in file and not os.path.exists(path + 'pdf files/' + file):\n",
    "        shutil.move(path + file,path + 'pdf files/' + file)\n",
    "    elif '.xlsx' in file and not os.path.exists(path + 'xlsx files/' + file):\n",
    "        shutil.move(path + file,path + 'xlsx files/' + file)\n",
    "    elif '.docx' in file and not os.path.exists(path + 'docx files/' + file):\n",
    "        shutil.move(path + file,path + 'docx files/' + file)\n",
    "    elif '.jpg' in file and not os.path.exists(path + 'jpg files/' + file):\n",
    "        shutil.move(path + file,path + 'jpg files/' + file)\n",
    "    elif '.JPG' in file and not os.path.exists(path + 'JPG files/' + file):\n",
    "        shutil.move(path + file,path + 'JPG files/' + file)\n",
    "\n",
    "# Script completes file organization based on specified criteria"
   ]
  },
  {
   "cell_type": "code",
   "execution_count": null,
   "id": "43927c8e",
   "metadata": {},
   "outputs": [],
   "source": []
  }
 ],
 "metadata": {
  "kernelspec": {
   "display_name": "Python 3 (ipykernel)",
   "language": "python",
   "name": "python3"
  },
  "language_info": {
   "codemirror_mode": {
    "name": "ipython",
    "version": 3
   },
   "file_extension": ".py",
   "mimetype": "text/x-python",
   "name": "python",
   "nbconvert_exporter": "python",
   "pygments_lexer": "ipython3",
   "version": "3.11.4"
  }
 },
 "nbformat": 4,
 "nbformat_minor": 5
}
